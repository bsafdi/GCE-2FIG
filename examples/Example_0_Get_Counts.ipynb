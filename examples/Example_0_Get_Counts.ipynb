{
 "cells": [
  {
   "cell_type": "code",
   "execution_count": 2,
   "metadata": {
    "collapsed": false
   },
   "outputs": [
    {
     "name": "stdout",
     "output_type": "stream",
     "text": [
      "The autoreload extension is already loaded. To reload it, use:\n",
      "  %reload_ext autoreload\n"
     ]
    }
   ],
   "source": [
    "%matplotlib inline\n",
    "%load_ext autoreload\n",
    "%autoreload 2\n",
    "\n",
    "import sys,os\n",
    "import numpy as np\n",
    "import matplotlib as mpl\n",
    "import matplotlib.pyplot as plt\n",
    "\n",
    "\n",
    "######Load in functions# \n",
    "sys.path.append(\"../python/\")\n",
    "\n",
    "import get_counts_inline as gc"
   ]
  },
  {
   "cell_type": "markdown",
   "metadata": {},
   "source": [
    "# Illustrations of the functions that calculate the number of counts"
   ]
  },
  {
   "cell_type": "markdown",
   "metadata": {},
   "source": [
    "In this notebook, we show examples of functions in the `get_counts_inline` `cython` module that calculate the number of expected counts, as a function of the model parameters."
   ]
  },
  {
   "cell_type": "markdown",
   "metadata": {},
   "source": [
    "Below, we take a few artibtrary choices to illustrate to functionality"
   ]
  },
  {
   "cell_type": "code",
   "execution_count": 3,
   "metadata": {
    "collapsed": true
   },
   "outputs": [],
   "source": [
    "N_stars = 10.0 #example, why not\n",
    "omega_ijk = 1.0 #example, why not\n",
    "i=3 #example, why not\n",
    "j=3 #example, why not\n",
    "k=1 #example, why not\n",
    "\n",
    "Ns = 100 #number of s bins in s integration\n",
    "Nang = 2 #number of angular bins in angular integration\n",
    "\n",
    "\n",
    "#These are also adjustable \n",
    "Lmin=1.0e31\n",
    "Lmax = 1.0e36\n",
    "\n",
    "#Theta mask: this masks the inner \\theta degrees when calculating the expected number of counts\n",
    "theta_mask = 0.0 #degrees"
   ]
  },
  {
   "cell_type": "markdown",
   "metadata": {},
   "source": [
    "First, we'll calculate the number of bulge stars"
   ]
  },
  {
   "cell_type": "code",
   "execution_count": 4,
   "metadata": {
    "collapsed": false
   },
   "outputs": [
    {
     "name": "stdout",
     "output_type": "stream",
     "text": [
      "0.000628541643001\n",
      "0.000260379951083\n"
     ]
    }
   ],
   "source": [
    "alpha=2.60\n",
    "beta=1.20\n",
    "rcut = 3.0 #kpc\n",
    "\n",
    "N_bulge = gc.Nbulge_full_ang_ijk(i,j,k,N_stars,omega_ijk,alpha,beta,rcut,Lmin,Lmax,Ns,Nang,theta_mask) \n",
    "print N_bulge\n",
    "\n",
    "n = 2.35\n",
    "z0 = 0.7 #kpc\n",
    "sigma = 1.528 #kpc\n",
    "beta=1.20\n",
    "\n",
    "smax = 40.0 #kpc , how far out to integrate to?\n",
    "\n",
    "N_disk = gc.Ndisk_full_ang_ijk(i,j,k,N_stars,omega_ijk,n,sigma,z0,beta,Lmin,Lmax,Ns,Nang,smax,theta_mask) \n",
    "print N_disk"
   ]
  },
  {
   "cell_type": "markdown",
   "metadata": {},
   "source": [
    "Next, we'll calculate the number of disk stars"
   ]
  },
  {
   "cell_type": "code",
   "execution_count": 5,
   "metadata": {
    "collapsed": false
   },
   "outputs": [
    {
     "name": "stdout",
     "output_type": "stream",
     "text": [
      "0.000260379951083\n"
     ]
    }
   ],
   "source": [
    "n = 2.35\n",
    "z0 = 0.7 #kpc\n",
    "sigma = 1.528 #kpc\n",
    "beta=1.20\n",
    "\n",
    "smax = 40.0 #kpc , how far out to integrate to?\n",
    "\n",
    "N_disk = gc.Ndisk_full_ang_ijk(i,j,k,N_stars,omega_ijk,n,sigma,z0,beta,Lmin,Lmax,Ns,Nang,smax,theta_mask) \n",
    "print N_disk"
   ]
  },
  {
   "cell_type": "markdown",
   "metadata": {
    "collapsed": true
   },
   "source": [
    "Now, let's calculate the total number of total bulge and disk counts, for the prior.\n",
    "Here, we integrate over fluxes from $1.8 \\times 10^{-5}$ MeV cm$^{-2}$ s$^{-1}$ to $6.539 \\times 10^{-4}$ MeV cm$^{-2}$ s$^{-1}"
   ]
  },
  {
   "cell_type": "code",
   "execution_count": 6,
   "metadata": {
    "collapsed": false
   },
   "outputs": [
    {
     "name": "stdout",
     "output_type": "stream",
     "text": [
      "0.636770572921 0.742911600968\n"
     ]
    }
   ],
   "source": [
    "#%%timeit\n",
    "Nang_total = 100 #We use a larger number of angular bins here, since we are integrating over the full sky\n",
    "N_bulge_total = gc.Nbulge_total(N_stars,alpha,beta,rcut,Lmin,Lmax,Ns,Nang_total,theta_mask)\n",
    "N_disk_total = gc.Ndisk_total(N_stars,n,sigma,z0,beta,Lmin,Lmax,Ns,Nang_total,smax,theta_mask)\n",
    "print N_bulge_total,N_disk_total"
   ]
  },
  {
   "cell_type": "code",
   "execution_count": null,
   "metadata": {
    "collapsed": true
   },
   "outputs": [],
   "source": []
  }
 ],
 "metadata": {
  "anaconda-cloud": {},
  "kernelspec": {
   "display_name": "Python 2",
   "language": "python",
   "name": "python2"
  },
  "language_info": {
   "codemirror_mode": {
    "name": "ipython",
    "version": 2
   },
   "file_extension": ".py",
   "mimetype": "text/x-python",
   "name": "python",
   "nbconvert_exporter": "python",
   "pygments_lexer": "ipython2",
   "version": "2.7.10"
  }
 },
 "nbformat": 4,
 "nbformat_minor": 1
}
