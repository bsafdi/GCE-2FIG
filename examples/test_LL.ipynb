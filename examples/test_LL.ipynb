{
 "cells": [
  {
   "cell_type": "code",
   "execution_count": 1,
   "metadata": {},
   "outputs": [],
   "source": [
    "%matplotlib inline\n",
    "%load_ext autoreload\n",
    "%autoreload 2\n",
    "\n",
    "import sys,os\n",
    "import numpy as np\n",
    "import matplotlib as mpl\n",
    "import matplotlib.pyplot as plt\n",
    "\n",
    "######Load in functions\n",
    "sys.path.append(\"../python/\")\n",
    "import get_counts_inline as gc\n",
    "# from LL import ll\n",
    "\n",
    "%load_ext Cython"
   ]
  },
  {
   "cell_type": "code",
   "execution_count": 50,
   "metadata": {},
   "outputs": [],
   "source": [
    "%%cython\n",
    "\n",
    "###############################################################################\n",
    "# LL.pyx\n",
    "###############################################################################\n",
    "#\n",
    "# Evaluate the likelihood as defined in 1705.00009, accounting for the minus\n",
    "# error. For the moment the prior term has been left out\n",
    "#\n",
    "# Mask whatever you want\n",
    "#\n",
    "# Written: Nick Rodd, MIT, 5 August 2017\n",
    "# Modified: Ben Safdi,UM, 15 August 2017\n",
    "#\n",
    "###############################################################################\n",
    "\n",
    "\n",
    "# Import basic functions\n",
    "import numpy as np\n",
    "cimport numpy as np\n",
    "cimport cython\n",
    "\n",
    "\n",
    "import get_counts_inline as gc\n",
    "cimport get_counts_inline as gc\n",
    "\n",
    "DTYPE = np.float\n",
    "ctypedef np.float_t DTYPE_t\n",
    "\n",
    "# C functions\n",
    "cdef extern from \"math.h\":\n",
    "    double pow(double x, double y) nogil\n",
    "    double sqrt(double x) nogil\n",
    "    double cos(double x) nogil\n",
    "    double tgamma(double x) nogil\n",
    "    double exp(double x) nogil\n",
    "    double sin(double x) nogil\n",
    "    double fabs(double x) nogil\n",
    "    double tan(double x) nogil\n",
    "\n",
    "    double log(double x) nogil\n",
    "    double lgamma(double x) nogil\n",
    "\n",
    "cdef double pi = np.pi\n",
    "\n",
    "\n",
    "\n",
    "@cython.boundscheck(False)\n",
    "@cython.wraparound(False)\n",
    "@cython.cdivision(True)\n",
    "@cython.initializedcheck(False)\n",
    "cpdef double ll(double[:, :, ::1] PSR_data, double[:, :, ::1] omega_ijk, \n",
    "                double Nbulge, double Ndisk, double alpha, double n, \n",
    "                double sigma, double z0, double beta_disk, double beta_bulge, double rcut = 3.0, double Lmin = 1.0e31, double Lmax_disk = 1.0e36,double Lmax_bulge = 1.0e36,int Ns = 200, int Nang = 5,double smax_disk = 20) nogil:\n",
    "    \"\"\" Calculate the likelihood as a function of the bulge and disk params\n",
    "    \"\"\"\n",
    "\n",
    "    # Setup loop variables\n",
    "    cdef double omega_val, Nmodel, Nobs, N_bulge, N_disk\n",
    "    cdef Py_ssize_t i, j, k\n",
    "    \n",
    "    # Now calculate the likelihood over all bins\n",
    "    cdef double ll = 0.\n",
    "    for i in range(6,7): # loop over longitude\n",
    "        for j in range(6,7): # loop over latitude\n",
    "            for k in range(1): # loop over flux\n",
    "                omega_val = omega_ijk[i,j,k] \n",
    "\n",
    "                N_disk = gc.Ndisk_full_ang_ijk(i,j,k,Ndisk, omega_val,n,sigma,z0,beta_disk,Lmin,Lmax_disk,Ns,Nang,smax_disk)\n",
    "                N_bulge = gc.Nbulge_full_ang_ijk(i,j,k,Nbulge, omega_val,alpha,beta_bulge,rcut, Lmin,Lmax_bulge,Ns,Nang)\n",
    "\n",
    "                Nmodel = N_disk #+ N_bulge\n",
    "\n",
    "                Nobs = PSR_data[i,j,k]\n",
    "\n",
    "\n",
    "                ll += Nobs*log(Nmodel) - Nmodel #- lgamma(Nobs + 1)\n",
    "                \n",
    "    return ll"
   ]
  },
  {
   "cell_type": "code",
   "execution_count": 51,
   "metadata": {
    "collapsed": true
   },
   "outputs": [],
   "source": [
    "# Fix base parameters\n",
    "Nb=0.\n",
    "n=2.35\n",
    "sigma=1.528\n",
    "alpha=2.6\n",
    "z0=0.7\n",
    "beta=1.2"
   ]
  },
  {
   "cell_type": "code",
   "execution_count": 52,
   "metadata": {
    "collapsed": true
   },
   "outputs": [],
   "source": [
    "# Load the binned efficiency and data files\n",
    "PSR_data = np.load('../data/PSR_data.npy') + np.load('../data/PSR_data_3fgl.npy')\n",
    "omega_ijk = np.load('../data/omega_ijk.npy')\n"
   ]
  },
  {
   "cell_type": "code",
   "execution_count": 53,
   "metadata": {},
   "outputs": [
    {
     "name": "stdout",
     "output_type": "stream",
     "text": [
      "-3.69281951166e-06\n"
     ]
    }
   ],
   "source": [
    "# %%timeit\n",
    "print ll(PSR_data, omega_ijk, 1, 1, alpha, n, sigma, z0, beta, beta)"
   ]
  }
 ],
 "metadata": {
  "anaconda-cloud": {},
  "kernelspec": {
   "display_name": "Python [default]",
   "language": "python",
   "name": "python2"
  },
  "language_info": {
   "codemirror_mode": {
    "name": "ipython",
    "version": 2
   },
   "file_extension": ".py",
   "mimetype": "text/x-python",
   "name": "python",
   "nbconvert_exporter": "python",
   "pygments_lexer": "ipython2",
   "version": "2.7.12"
  }
 },
 "nbformat": 4,
 "nbformat_minor": 1
}
