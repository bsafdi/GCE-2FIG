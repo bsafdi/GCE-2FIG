{
 "cells": [
  {
   "cell_type": "code",
   "execution_count": 11,
   "metadata": {
    "collapsed": true
   },
   "outputs": [],
   "source": [
    "import numpy as np\n",
    "from astropy.io import fits"
   ]
  },
  {
   "cell_type": "code",
   "execution_count": 12,
   "metadata": {},
   "outputs": [],
   "source": [
    "# Set mask in degrees - distance from GC within which we ignore events\n",
    "mask = 2.\n",
    "\n",
    "# Load the raw data, contains 86 pulsar candidates with associated l, b, flux values\n",
    "rd = np.loadtxt('../data/psrcandidates.dat')\n",
    "\n",
    "# Define our bin edges\n",
    "angbins = -np.linspace(-20,20,13) # - because top left is 0,0 and astro longitude\n",
    "fluxbins = np.append(np.logspace(-6,-5,7), np.logspace(-5,-4,3)[1:3])\n",
    "\n",
    "PSR_data = np.zeros((12,12,8))\n",
    "\n",
    "# Now bin the data\n",
    "for ips in range(len(rd)):\n",
    "    lval = rd[ips, 0]\n",
    "    bval = rd[ips, 1]\n",
    "    fval = rd[ips, 2]\n",
    "    if np.cos(lval*np.pi/180.)*np.cos(bval*np.pi/180.) > np.cos(mask*np.pi/180.): continue\n",
    "    for li in range(12):\n",
    "        if (lval <= angbins[li]) & (lval > angbins[li+1]):\n",
    "            for bi in range(12):\n",
    "                if (bval <= angbins[bi]) & (bval > angbins[bi+1]):\n",
    "                    for fi in range(8):\n",
    "                        if (fval >= fluxbins[fi]) & (fval < fluxbins[fi+1]):\n",
    "                            PSR_data[li,bi,fi] += 1.\n",
    "\n",
    "np.save('../data/PSR_data',PSR_data)"
   ]
  },
  {
   "cell_type": "code",
   "execution_count": 13,
   "metadata": {},
   "outputs": [
    {
     "name": "stdout",
     "output_type": "stream",
     "text": [
      "469 [('Source_Name', 'S20'), ('RAJ2000', '<f4'), ('DEJ2000', '<f4'), ('GLON', '<f4'), ('GLAT', '<f4'), ('r68', '<f4'), ('r95', '<f4'), ('TS', '<f4'), ('TS_curv', '<f4'), ('Flux300', '<f4'), ('Unc_Flux300', '<f4'), ('Energy_Flux300', '<f4'), ('Unc_Energy_Flux300', '<f4'), ('SpectrumType', 'S20'), ('Spectral_Index', '<f4'), ('Unc_Spectral_Index', '<f4'), ('Cutoff', '<f4'), ('Unc_Cutoff', '<f4'), ('beta', '<f4'), ('Unc_beta', '<f4'), ('IEM', 'S20'), ('3FGL_Name', 'S20'), ('3FGL_Class', 'S20'), ('Cluster_Off', '<i2'), ('Cluster_Alt', '<i2')] 11520\n"
     ]
    }
   ],
   "source": [
    "# Load 2FIG catalog\n",
    "load = fits.open('../data/2FIG_Pass8_Arxiv.fits')\n",
    "cat = np.array(load[1].data)\n",
    "\n",
    "glon = np.array([])\n",
    "glat = np.array([])\n",
    "eflux = np.array([])\n",
    "\n",
    "count = 0\n",
    "\n",
    "for i in range(len(cat)):\n",
    "    # Check if PSR or psr\n",
    "    if (cat[i][22] == 'PSR') | (cat[i][22] == 'psr'):\n",
    "        glon = np.append(glon,cat[i][3])\n",
    "        glat = np.append(glat,cat[i][4])\n",
    "        eflux = np.append(eflux,cat[i][11])\n",
    "        count += 1\n",
    "\n",
    "# Now bin\n",
    "angbins = -np.linspace(-20,20,13) # - because top left is 0,0 and astro longitude\n",
    "fluxbins = np.append(np.logspace(-6,-5,7), np.logspace(-5,-4,3)[1:3])\n",
    "\n",
    "PSR_data = np.zeros((12,12,8))\n",
    "\n",
    "for ips in range(len(glon)):\n",
    "    lval = glon[ips]\n",
    "    bval = glat[ips]\n",
    "    if np.cos(lval*np.pi/180.)*np.cos(bval*np.pi/180.) > np.cos(mask*np.pi/180.): continue\n",
    "    fval = eflux[ips]\n",
    "    for li in range(12):\n",
    "        if (lval <= angbins[li]) & (lval > angbins[li+1]):\n",
    "            for bi in range(12):\n",
    "                if (bval <= angbins[bi]) & (bval > angbins[bi+1]):\n",
    "                    for fi in range(8):\n",
    "                        if (fval >= fluxbins[fi]) & (fval < fluxbins[fi+1]):\n",
    "                            PSR_data[li,bi,fi] += 1.\n",
    "\n",
    "np.save('../data/PSR_data_3fgl',PSR_data)"
   ]
  },
  {
   "cell_type": "code",
   "execution_count": null,
   "metadata": {
    "collapsed": true
   },
   "outputs": [],
   "source": []
  }
 ],
 "metadata": {
  "anaconda-cloud": {},
  "kernelspec": {
   "display_name": "Python [conda env:venv_py27]",
   "language": "python",
   "name": "conda-env-venv_py27-py"
  },
  "language_info": {
   "codemirror_mode": {
    "name": "ipython",
    "version": 2
   },
   "file_extension": ".py",
   "mimetype": "text/x-python",
   "name": "python",
   "nbconvert_exporter": "python",
   "pygments_lexer": "ipython2",
   "version": "2.7.12"
  }
 },
 "nbformat": 4,
 "nbformat_minor": 2
}
