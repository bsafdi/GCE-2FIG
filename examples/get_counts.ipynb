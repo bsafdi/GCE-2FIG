{
 "cells": [
  {
   "cell_type": "code",
   "execution_count": 1,
   "metadata": {},
   "outputs": [],
   "source": [
    "%matplotlib inline\n",
    "%load_ext autoreload\n",
    "%autoreload 2\n",
    "\n",
    "import sys,os\n",
    "import numpy as np\n",
    "import matplotlib as mpl\n",
    "import matplotlib.pyplot as plt\n",
    "\n",
    "\n",
    "######Load in functions\n",
    "sys.path.append(\"..//python/\")\n",
    "import get_counts_inline as gc"
   ]
  },
  {
   "cell_type": "code",
   "execution_count": 2,
   "metadata": {
    "collapsed": true
   },
   "outputs": [],
   "source": [
    "N_stars = 10.0 #example, why not\n",
    "omega_ijk = 1.0 #example, why not\n",
    "i=2 #example, why not\n",
    "j=1 #example, why not\n",
    "k=1 #example, why not\n",
    "\n",
    "Ns = 500 #number of s bins in s integration\n",
    "Nang = 100 #number of angular bins in angular integration\n",
    "\n",
    "alpha=2.60\n",
    "beta=1.20\n",
    "rcut = 3.0 #kpc\n",
    "\n",
    "\n",
    "\n",
    "#These are also adjustable \n",
    "Lmin=1.0e31\n",
    "Lmax = 1.0e36"
   ]
  },
  {
   "cell_type": "markdown",
   "metadata": {},
   "source": [
    "First, we'll calculate the number of bulge stars using a few differnt methods.\n",
    "1.  t1: Nick's old code\n",
    "2.  t2: Ben's code, integrating over s\n",
    "3.  t3: Ben's code, integrating over s and angles"
   ]
  },
  {
   "cell_type": "code",
   "execution_count": null,
   "metadata": {
    "collapsed": true
   },
   "outputs": [],
   "source": []
  },
  {
   "cell_type": "code",
   "execution_count": 3,
   "metadata": {},
   "outputs": [
    {
     "data": {
      "text/plain": [
       "108094894057.49501"
      ]
     },
     "execution_count": 3,
     "metadata": {},
     "output_type": "execute_result"
    }
   ],
   "source": [
    "gc.Nbulge_full_ang_ijk(6,6,k,1000,omega_ijk,alpha,beta,Ns=Ns,Nang=Nang,rcut=rcut,Lmin=Lmin,Lmax=Lmax,theta_mask=0)"
   ]
  },
  {
   "cell_type": "code",
   "execution_count": 6,
   "metadata": {},
   "outputs": [],
   "source": [
    "# # alpha=2.60\n",
    "# # beta=1.20\n",
    "# # rcut = 3.0 #kpc\n",
    "# # t1 = gc.Nbulge_ijk(i,j,k,N_stars,omega_ijk,alpha,beta) #Nick's Old\n",
    "# # t2 = gc.Nbulge_full_ijk(i,j,k,N_stars,omega_ijk,alpha,beta,Ns=Ns,rcut=rcut,Lmin=Lmin,Lmax=Lmax) #Ben no angle int\n",
    "# t3 = gc.Nbulge_full_ang_ijk(i,j,k,N_stars,omega_ijk,alpha,beta,Ns=Ns,Nang=Nang,rcut=rcut,Lmin=Lmin,Lmax=Lmax) #Ben with angle int\n",
    "# print t1,t2,t3"
   ]
  },
  {
   "cell_type": "markdown",
   "metadata": {},
   "source": [
    "Next, we'll calculate the number of disk stars using a few differnt methods.\n",
    "1.  t1: Nick's old code\n",
    "2.  t2: Ben's code, integrating over s and angles"
   ]
  },
  {
   "cell_type": "code",
   "execution_count": 34,
   "metadata": {},
   "outputs": [
    {
     "name": "stdout",
     "output_type": "stream",
     "text": [
      "7.01765051067e-05 7.51535736298e-05\n"
     ]
    }
   ],
   "source": [
    "n = 2.35\n",
    "z0 = 0.7 #kpc\n",
    "sigma = 1.528 #kpc\n",
    "beta=1.20\n",
    "t1 = gc.Ndisk_ijk(i,j,k,N_stars,omega_ijk,n,sigma,z0,beta) #Nick's old\n",
    "t2 = gc.Ndisk_full_ang_ijk(i,j,k,N_stars,omega_ijk,n,sigma,z0,beta,Ns=Ns,Nang=Nang,Lmin=Lmin,Lmax=Lmax) #Ben's New\n",
    "print t1,t2"
   ]
  },
  {
   "cell_type": "code",
   "execution_count": null,
   "metadata": {
    "collapsed": true
   },
   "outputs": [],
   "source": []
  }
 ],
 "metadata": {
  "kernelspec": {
   "display_name": "Python [default]",
   "language": "python",
   "name": "python2"
  },
  "language_info": {
   "codemirror_mode": {
    "name": "ipython",
    "version": 2
   },
   "file_extension": ".py",
   "mimetype": "text/x-python",
   "name": "python",
   "nbconvert_exporter": "python",
   "pygments_lexer": "ipython2",
   "version": "2.7.12"
  }
 },
 "nbformat": 4,
 "nbformat_minor": 1
}
