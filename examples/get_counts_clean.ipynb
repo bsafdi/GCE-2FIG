{
 "cells": [
  {
   "cell_type": "code",
   "execution_count": 1,
   "metadata": {
    "collapsed": false
   },
   "outputs": [
    {
     "name": "stderr",
     "output_type": "stream",
     "text": [
      "/Library/Python/2.7/site-packages/matplotlib-2.0.0b4+2617.ge794622-py2.7-macosx-10.10-intel.egg/matplotlib/cbook.py:128: MatplotlibDeprecationWarning: The finance module has been deprecated in mpl 2.0 and will be removed in mpl 2.2. Please use the matplotlib toolkit finance instead.\n",
      "  warnings.warn(message, mplDeprecation, stacklevel=1)\n"
     ]
    }
   ],
   "source": [
    "%matplotlib inline\n",
    "%load_ext autoreload\n",
    "%autoreload 2\n",
    "\n",
    "import sys,os\n",
    "import numpy as np\n",
    "import matplotlib as mpl\n",
    "import matplotlib.pyplot as plt\n",
    "\n",
    "\n",
    "######Load in functions\n",
    "sys.path.append(\"/Users/bsafdi/Dropbox/GCE-2FIG/python/\")\n",
    "import get_counts_inline as gc"
   ]
  },
  {
   "cell_type": "code",
   "execution_count": 2,
   "metadata": {
    "collapsed": true
   },
   "outputs": [],
   "source": [
    "N_stars = 10.0 #example, why not\n",
    "omega_ijk = 1.0 #example, why not\n",
    "i=2 #example, why not\n",
    "j=1 #example, why not\n",
    "k=1 #example, why not\n",
    "\n",
    "Ns = 500 #number of s bins in s integration\n",
    "Nang = 100 #number of angular bins in angular integration\n",
    "\n",
    "\n",
    "#These are also adjustable \n",
    "Lmin=1.0e31\n",
    "Lmax = 1.0e36\n",
    "\n",
    "#Theta mask: this masks the inner \\theta degrees when calculating the expected number of counts\n",
    "theta_mask = 0.0 #degrees"
   ]
  },
  {
   "cell_type": "markdown",
   "metadata": {},
   "source": [
    "First, we'll calculate the number of bulge stars"
   ]
  },
  {
   "cell_type": "code",
   "execution_count": 3,
   "metadata": {
    "collapsed": false
   },
   "outputs": [
    {
     "name": "stdout",
     "output_type": "stream",
     "text": [
      "0.000120581368879\n"
     ]
    }
   ],
   "source": [
    "alpha=2.60\n",
    "beta=1.20\n",
    "rcut = 3.0 #kpc\n",
    "\n",
    "N_bulge = gc.Nbulge_full_ang_ijk(i,j,k,N_stars,omega_ijk,alpha,beta,rcut,Lmin,Lmax,Ns,Nang,theta_mask) \n",
    "print N_bulge"
   ]
  },
  {
   "cell_type": "markdown",
   "metadata": {},
   "source": [
    "Next, we'll calculate the number of disk stars"
   ]
  },
  {
   "cell_type": "code",
   "execution_count": 4,
   "metadata": {
    "collapsed": false
   },
   "outputs": [
    {
     "name": "stdout",
     "output_type": "stream",
     "text": [
      "7.51535736298e-05\n"
     ]
    }
   ],
   "source": [
    "n = 2.35\n",
    "z0 = 0.7 #kpc\n",
    "sigma = 1.528 #kpc\n",
    "beta=1.20\n",
    "\n",
    "smax = 40.0 #kpc , how far out to integrate to?\n",
    "\n",
    "N_disk = gc.Ndisk_full_ang_ijk(i,j,k,N_stars,omega_ijk,n,sigma,z0,beta,Lmin,Lmax,Ns,Nang,smax,theta_mask) \n",
    "print N_disk"
   ]
  },
  {
   "cell_type": "markdown",
   "metadata": {
    "collapsed": true
   },
   "source": [
    "Now, let's calculate the total number of total bulge and disk counts, for the prior\n",
    "Here, we integrate over fluxes from $1.8 \\times 10^{-5}$ MeV cm$^{-2}$ s$^{-1}$ to $6.539 \\times 10^{-4}$ MeV cm$^{-2}$ s$^{-1}"
   ]
  },
  {
   "cell_type": "code",
   "execution_count": 8,
   "metadata": {
    "collapsed": false
   },
   "outputs": [
    {
     "name": "stdout",
     "output_type": "stream",
     "text": [
      "0.591469594219 0.757208534157\n"
     ]
    }
   ],
   "source": [
    "N_bulge_total = gc.Nbulge_total(N_stars,alpha,beta,rcut,Lmin,Lmax,Ns,Nang,theta_mask)\n",
    "N_disk_total = gc.Ndisk_total(N_stars,n,sigma,z0,beta,Lmin,Lmax,Ns,Nang,smax,theta_mask)\n",
    "print N_bulge_total,N_disk_total"
   ]
  },
  {
   "cell_type": "code",
   "execution_count": null,
   "metadata": {
    "collapsed": true
   },
   "outputs": [],
   "source": []
  }
 ],
 "metadata": {
  "kernelspec": {
   "display_name": "Python 2",
   "language": "python",
   "name": "python2"
  },
  "language_info": {
   "codemirror_mode": {
    "name": "ipython",
    "version": 2
   },
   "file_extension": ".py",
   "mimetype": "text/x-python",
   "name": "python",
   "nbconvert_exporter": "python",
   "pygments_lexer": "ipython2",
   "version": "2.7.10"
  }
 },
 "nbformat": 4,
 "nbformat_minor": 0
}
