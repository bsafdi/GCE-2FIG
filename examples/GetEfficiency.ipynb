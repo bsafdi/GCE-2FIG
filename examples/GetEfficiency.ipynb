{
 "cells": [
  {
   "cell_type": "markdown",
   "metadata": {},
   "source": [
    " # Nick's original code"
   ]
  },
  {
   "cell_type": "code",
   "execution_count": 154,
   "metadata": {
    "collapsed": true
   },
   "outputs": [],
   "source": [
    "###############################################################################\n",
    "# get_efficiency.py\n",
    "###############################################################################\n",
    "#\n",
    "# Evaluate the efficiency at the center of each of the bins using the data\n",
    "# provided by Dan, who was given this by Mattia\n",
    "#\n",
    "# Here we have no longitude dependence in the efficiency as that's not public\n",
    "#\n",
    "# Written: Nick Rodd, MIT, 5 August 2017\n",
    "#\n",
    "###############################################################################\n",
    "\n",
    "import numpy as np\n",
    "\n",
    "# All fluxes are in Mev/cm^2/s\n",
    "\n",
    "# Load the efficiency as specified by Dan\n",
    "fluxvals = np.array([5.01187234e-07, 7.94328235e-07, 1.25892541e-06,\n",
    "                    1.99526231e-06, 3.16227766e-06, 5.01187234e-06,\n",
    "                    7.94328235e-06, 1.25892541e-05, 1.99526231e-05,\n",
    "                    3.16227766e-05, 5.01187234e-05, 7.94328235e-05,\n",
    "                    1.25892541e-04, 1.99526231e-04])\n",
    "bvals = np.array([1., 3., 5., 7.5, 10.5, 14., 18.])\n",
    "\n",
    "efficiency = np.zeros((len(fluxvals),len(bvals)))\n",
    "\n",
    "efficiency[:, 0] = [0.00354610, 0.00411523, 0.01162791, 0.00854701, 0.05857741,\n",
    "                    0.17112299, 0.22916667, 0.28140704, 0.32989691, 0.42405063,\n",
    "                    0.46601942, 0.60000000, 0.80000000, 1.00000000]\n",
    "efficiency[:, 1] = [0.00892857, 0.01785714, 0.06493506, 0.15789474, 0.30909091,\n",
    "                    0.40816327, 0.62162162, 0.76595745, 0.70833333, 0.81159420,\n",
    "                    0.88636364, 0.90000000, 0.94339623, 1.00000000]\n",
    "efficiency[:, 2] = [0.01190476, 0.01086957, 0.11627907, 0.38095238, 0.69411765,\n",
    "                    0.83950617, 0.87671233, 0.90647059, 0.91769231, 0.92444444,\n",
    "                    0.95444444, 0.97444444, 1.00000000, 1.00000000]\n",
    "efficiency[:, 3] = [0.00000000, 0.04166667, 0.14782609, 0.39622642, 0.71739130,\n",
    "                    0.74712644, 0.89189189, 0.85915493, 0.85365854, 0.90058824,\n",
    "                    0.92647059, 0.95476190, 1.00000000, 1.00000000]\n",
    "efficiency[:, 4] = [0.00925926, 0.06603774, 0.20408163, 0.50980392, 0.85294118,\n",
    "                    0.84615385, 0.88505747, 0.92222222, 0.94366197, 0.95522388,\n",
    "                    0.94339623, 0.95000000, 1.00000000, 1.00000000]\n",
    "efficiency[:, 5] = [0.00000000, 0.05590062, 0.19298246, 0.52307692, 0.79032258,\n",
    "                    0.85600000, 0.85964912, 0.90740741, 0.90774194, 0.89156627,\n",
    "                    0.92461538, 0.89500000, 1.00000000, 1.00000000]\n",
    "efficiency[:, 6] = [0.02142857, 0.05263158, 0.20833333, 0.55905512, 0.71052632,\n",
    "                    0.76237624, 0.80357143, 0.87878788, 0.92391304, 0.95555556,\n",
    "                    0.93750000, 0.95000000, 1.00000000, 1.00000000]\n",
    "\n",
    "# Load the array of bvals and flux vals for our bins\n",
    "our_bvals = np.abs([18.33333333, 15., 11.66666667, 8.33333333, 5., 1.66666667,\n",
    "                    -1.66666667, -5., -8.33333333, -11.66666667, -15., -18.33333333])\n",
    "\n",
    "# 6 flux bins fro 1e-6 to 1e-5 and 2 from 1e-5 to 1e-4, evaluate midpoints below\n",
    "fluxvals1 = 10**(1./12.+np.linspace(-6,-5,7)[0:6])\n",
    "fluxvals2 = 10**(0.25+np.linspace(-5,-4,3)[0:2])\n",
    "our_fluxvals = np.append(fluxvals1,fluxvals2)\n",
    "\n",
    "# Find flux interpolation values - this is the integer in fluxvals to go to\n",
    "our_flux_interp = np.interp(our_fluxvals, fluxvals, np.arange(len(fluxvals), dtype=float))\n",
    "\n",
    "# Now convert efficiency to be at our fluxes, but original b values\n",
    "efficiency_ourflux = np.zeros((len(bvals),len(our_fluxvals)))\n",
    "\n",
    "for i in range(7):\n",
    "    for j in range(len(our_fluxvals)):\n",
    "        efficiency_ourflux[i,j] = np.interp(our_flux_interp[j],np.arange(len(fluxvals), dtype=float), efficiency[:,i])\n",
    "\n",
    "# Find b interpolation values - this is the integer in the bvals to go to\n",
    "our_b_interp = np.interp(our_bvals, bvals, np.arange(len(bvals), dtype=float))\n",
    "\n",
    "# Now convert efficiency to our b values and we're done!\n",
    "our_efficiency = np.zeros((len(our_bvals),len(our_fluxvals)))\n",
    "for i in range(len(our_bvals)):\n",
    "    for j in range(len(our_fluxvals)):\n",
    "        our_efficiency[i,j] = np.interp(our_b_interp[i], np.arange(len(bvals), dtype=float), efficiency_ourflux[:,j])"
   ]
  },
  {
   "cell_type": "code",
   "execution_count": 155,
   "metadata": {},
   "outputs": [
    {
     "data": {
      "text/plain": [
       "array([[ 0.19244879,  0.45570483,  0.63886458,  0.72927794,  0.77097024,\n",
       "         0.8086025 ,  0.91061561,  0.94010771],\n",
       "       [ 0.18236033,  0.43328001,  0.6576317 ,  0.79287569,  0.83531351,\n",
       "         0.84928331,  0.90838642,  0.92385477],\n",
       "       [ 0.18633152,  0.42174438,  0.68169669,  0.83834933,  0.85510028,\n",
       "         0.87931009,  0.92744387,  0.93599496],\n",
       "       [ 0.15171879,  0.3498853 ,  0.60021187,  0.76212881,  0.79869994,\n",
       "         0.8891025 ,  0.8780743 ,  0.93581742],\n",
       "       [ 0.1055253 ,  0.30295876,  0.54595769,  0.74669767,  0.84726799,\n",
       "         0.8787028 ,  0.91438551,  0.95861677],\n",
       "       [ 0.02728505,  0.04980375,  0.10245829,  0.18116001,  0.27305266,\n",
       "         0.3655326 ,  0.45217663,  0.62571614],\n",
       "       [ 0.02728505,  0.04980375,  0.10245829,  0.18116001,  0.27305266,\n",
       "         0.3655326 ,  0.45217663,  0.62571614],\n",
       "       [ 0.1055253 ,  0.30295876,  0.54595769,  0.74669767,  0.84726799,\n",
       "         0.8787028 ,  0.91438551,  0.95861677],\n",
       "       [ 0.15171879,  0.3498853 ,  0.60021187,  0.76212881,  0.79869994,\n",
       "         0.8891025 ,  0.8780743 ,  0.93581742],\n",
       "       [ 0.18633152,  0.42174438,  0.68169669,  0.83834933,  0.85510028,\n",
       "         0.87931009,  0.92744387,  0.93599496],\n",
       "       [ 0.18236033,  0.43328001,  0.6576317 ,  0.79287569,  0.83531351,\n",
       "         0.84928331,  0.90838642,  0.92385477],\n",
       "       [ 0.19244879,  0.45570483,  0.63886458,  0.72927794,  0.77097024,\n",
       "         0.8086025 ,  0.91061561,  0.94010771]])"
      ]
     },
     "execution_count": 155,
     "metadata": {},
     "output_type": "execute_result"
    }
   ],
   "source": [
    "our_efficiency"
   ]
  },
  {
   "cell_type": "markdown",
   "metadata": {},
   "source": [
    "# Integrate over $b$"
   ]
  },
  {
   "cell_type": "code",
   "execution_count": 226,
   "metadata": {},
   "outputs": [],
   "source": [
    "import numpy as np\n",
    "from scipy.integrate import nquad, quad\n",
    "from tqdm import *\n",
    "\n",
    "# All fluxes are in MeV/cm^2/s\n",
    "\n",
    "# Load the efficiency as specified by Dan\n",
    "fluxvals = np.array([5.01187234e-07, 7.94328235e-07, 1.25892541e-06,\n",
    "                    1.99526231e-06, 3.16227766e-06, 5.01187234e-06,\n",
    "                    7.94328235e-06, 1.25892541e-05, 1.99526231e-05,\n",
    "                    3.16227766e-05, 5.01187234e-05, 7.94328235e-05,\n",
    "                    1.25892541e-04, 1.99526231e-04])\n",
    "\n",
    "bvals = np.array([1., 3., 5., 7.5, 10.5, 14., 18.])\n",
    "\n",
    "efficiency = np.zeros((len(fluxvals),len(bvals)))\n",
    "\n",
    "efficiency[:, 0] = [0.00354610, 0.00411523, 0.01162791, 0.00854701, 0.05857741,\n",
    "                    0.17112299, 0.22916667, 0.28140704, 0.32989691, 0.42405063,\n",
    "                    0.46601942, 0.60000000, 0.80000000, 1.00000000]\n",
    "efficiency[:, 1] = [0.00892857, 0.01785714, 0.06493506, 0.15789474, 0.30909091,\n",
    "                    0.40816327, 0.62162162, 0.76595745, 0.70833333, 0.81159420,\n",
    "                    0.88636364, 0.90000000, 0.94339623, 1.00000000]\n",
    "efficiency[:, 2] = [0.01190476, 0.01086957, 0.11627907, 0.38095238, 0.69411765,\n",
    "                    0.83950617, 0.87671233, 0.90647059, 0.91769231, 0.92444444,\n",
    "                    0.95444444, 0.97444444, 1.00000000, 1.00000000]\n",
    "efficiency[:, 3] = [0.00000000, 0.04166667, 0.14782609, 0.39622642, 0.71739130,\n",
    "                    0.74712644, 0.89189189, 0.85915493, 0.85365854, 0.90058824,\n",
    "                    0.92647059, 0.95476190, 1.00000000, 1.00000000]\n",
    "efficiency[:, 4] = [0.00925926, 0.06603774, 0.20408163, 0.50980392, 0.85294118,\n",
    "                    0.84615385, 0.88505747, 0.92222222, 0.94366197, 0.95522388,\n",
    "                    0.94339623, 0.95000000, 1.00000000, 1.00000000]\n",
    "efficiency[:, 5] = [0.00000000, 0.05590062, 0.19298246, 0.52307692, 0.79032258,\n",
    "                    0.85600000, 0.85964912, 0.90740741, 0.90774194, 0.89156627,\n",
    "                    0.92461538, 0.89500000, 1.00000000, 1.00000000]\n",
    "efficiency[:, 6] = [0.02142857, 0.05263158, 0.20833333, 0.55905512, 0.71052632,\n",
    "                    0.76237624, 0.80357143, 0.87878788, 0.92391304, 0.95555556,\n",
    "                    0.93750000, 0.95000000, 1.00000000, 1.00000000]\n",
    "\n",
    "# Load the array of bvals and flux vals for our bins\n",
    "our_bvals = np.abs([18.33333333, 15., 11.66666667, 8.33333333, 5., 1.66666667,\n",
    "                    -1.66666667, -5., -8.33333333, -11.66666667, -15., -18.33333333])\n",
    "\n",
    "\n",
    "our_bvals = our_bvals#[-6:]\n",
    "b_edges = np.abs(np.linspace(-20.,20.,13,dtype=np.float))#[6:]\n",
    "\n",
    "# 6 flux bins from 1e-6 to 1e-5 and 2 from 1e-5 to 1e-4, evaluate midpoints below\n",
    "fluxvals1 = 10**(1./12.+np.linspace(-6,-5,7)[0:6])\n",
    "fluxvals2 = 10**(0.25+np.linspace(-5,-4,3)[0:2])\n",
    "our_fluxvals = np.append(fluxvals1,fluxvals2)\n",
    "\n",
    "# Now convert efficiency to be at our fluxes, but original b values\n",
    "efficiency_ourflux = np.zeros((len(bvals),len(our_fluxvals)))\n",
    "\n",
    "for i in range(7):\n",
    "    for j in range(len(our_fluxvals)):\n",
    "        efficiency_ourflux[i,j] = np.interp(our_fluxvals[j], fluxvals, efficiency[:,i])\n",
    "        \n",
    "# Find b interpolation values - this is the integer in the bvals to go to\n",
    "our_b_interp = np.interp(our_bvals, bvals, np.arange(len(bvals), dtype=float))\n",
    "\n",
    "def step(x):\n",
    "    return 1 * (x > 0)\n",
    "\n",
    "# Now convert efficiency to our b values and we're done!\n",
    "our_efficiency = np.zeros((len(our_bvals),len(our_bvals), len(our_fluxvals)))\n",
    "for i in tqdm_notebook(range(len(our_bvals))):\n",
    "    for j in range(len(our_bvals)):\n",
    "        for k in range(len(our_fluxvals)): \n",
    "            \n",
    "            # Get metric\n",
    "            metric = np.abs(quad(lambda l: quad(lambda b: (step(np.abs(l) - 2) + step(np.abs(b) - 2)) > 1,\\ # Step function accounting for masking\n",
    "                                                b_edges[i],b_edges[i+1])[0], \\ # b range\n",
    "                                                b_edges[j],b_edges[j+1])[0]) # l range\n",
    "            \n",
    "            # Calculate efficiency and divide by metric\n",
    "            our_efficiency[i,j,k] = np.abs(quad(lambda l: quad(lambda b: ((step(np.abs(l) - 2) + step(np.abs(b) - 2)) > 1)*\\ # Step function accounting for masking\n",
    "                                                               np.interp(b, bvals, efficiency_ourflux[:,k]),\\ # Integrate efficiency\n",
    "                                                               b_edges[i],b_edges[i+1])[0], \\ # b range\n",
    "                                                                b_edges[j],b_edges[j+1])[0])/metric  # l range and divide by metric"
   ]
  },
  {
   "cell_type": "code",
   "execution_count": 223,
   "metadata": {},
   "outputs": [
    {
     "name": "stdout",
     "output_type": "stream",
     "text": [
      "3.33333333333 6.66666666667\n",
      "6.66666666667 3.33333333333\n"
     ]
    },
    {
     "data": {
      "text/plain": [
       "11.111111111111109"
      ]
     },
     "execution_count": 223,
     "metadata": {},
     "output_type": "execute_result"
    }
   ],
   "source": [
    "i = 7\n",
    "j = 4\n",
    "\n",
    "print b_edges[i],b_edges[i+1]\n",
    "print b_edges[j],b_edges[j+1]\n",
    "\n",
    "np.abs(quad(lambda l: quad(lambda b: (step(np.abs(l) - 2) + step(np.abs(b) - 2)) > 1, b_edges[i],b_edges[i+1])[0], b_edges[j],b_edges[j+1])[0])"
   ]
  },
  {
   "cell_type": "code",
   "execution_count": 185,
   "metadata": {},
   "outputs": [
    {
     "data": {
      "text/plain": [
       "array([[ 0.19155204,  0.45371151,  0.64053277,  0.73493107,  0.77668964,\n",
       "         0.81221858,  0.91041746,  0.938663  ],\n",
       "       [ 0.18279406,  0.43366232,  0.65772349,  0.79215596,  0.8338362 ,\n",
       "         0.84884976,  0.90900169,  0.9247176 ],\n",
       "       [ 0.18555112,  0.42060106,  0.67984603,  0.83642994,  0.85416519,\n",
       "         0.87907243,  0.92609983,  0.93555777],\n",
       "       [ 0.15224789,  0.35240623,  0.60374547,  0.7671498 ,  0.80428578,\n",
       "         0.88856924,  0.88338661,  0.93734153],\n",
       "       [ 0.10131349,  0.27037505,  0.48495619,  0.65990201,  0.75340828,\n",
       "         0.82898877,  0.86514438,  0.93978267],\n",
       "       [ 0.02073586,  0.04455924,  0.08239484,  0.12289332,  0.16415613,\n",
       "         0.22467614,  0.26097322,  0.32661889],\n",
       "       [ 0.02073586,  0.04455924,  0.08239484,  0.12289332,  0.16415613,\n",
       "         0.22467614,  0.26097322,  0.32661889],\n",
       "       [ 0.10131349,  0.27037505,  0.48495619,  0.65990201,  0.75340828,\n",
       "         0.82898877,  0.86514438,  0.93978267],\n",
       "       [ 0.15224789,  0.35240623,  0.60374547,  0.7671498 ,  0.80428578,\n",
       "         0.88856924,  0.88338661,  0.93734153],\n",
       "       [ 0.18555112,  0.42060106,  0.67984603,  0.83642994,  0.85416519,\n",
       "         0.87907243,  0.92609983,  0.93555777],\n",
       "       [ 0.18279406,  0.43366232,  0.65772349,  0.79215596,  0.8338362 ,\n",
       "         0.84884976,  0.90900169,  0.9247176 ],\n",
       "       [ 0.19155204,  0.45371151,  0.64053277,  0.73493107,  0.77668964,\n",
       "         0.81221858,  0.91041746,  0.938663  ]])"
      ]
     },
     "execution_count": 185,
     "metadata": {},
     "output_type": "execute_result"
    }
   ],
   "source": [
    "our_efficiency"
   ]
  },
  {
   "cell_type": "code",
   "execution_count": 164,
   "metadata": {},
   "outputs": [
    {
     "data": {
      "text/plain": [
       "array([[ 0.19155204,  0.45371151,  0.64053277,  0.73493107,  0.77668964,\n",
       "         0.81221858,  0.91041746,  0.938663  ],\n",
       "       [ 0.18279406,  0.43366232,  0.65772349,  0.79215596,  0.8338362 ,\n",
       "         0.84884976,  0.90900169,  0.9247176 ],\n",
       "       [ 0.18555112,  0.42060106,  0.67984603,  0.83642994,  0.85416519,\n",
       "         0.87907243,  0.92609983,  0.93555777],\n",
       "       [ 0.15224789,  0.35240623,  0.60374547,  0.7671498 ,  0.80428578,\n",
       "         0.88856924,  0.88338661,  0.93734153],\n",
       "       [ 0.10131349,  0.27037505,  0.48495619,  0.65990201,  0.75340828,\n",
       "         0.82898877,  0.86514438,  0.93978267],\n",
       "       [ 0.03094805,  0.05931067,  0.11853838,  0.20088421,  0.29430493,\n",
       "         0.39416882,  0.48106595,  0.65264377],\n",
       "       [ 0.03094805,  0.05931067,  0.11853838,  0.20088421,  0.29430493,\n",
       "         0.39416882,  0.48106595,  0.65264377],\n",
       "       [ 0.10131349,  0.27037505,  0.48495619,  0.65990201,  0.75340828,\n",
       "         0.82898877,  0.86514438,  0.93978267],\n",
       "       [ 0.15224789,  0.35240623,  0.60374547,  0.7671498 ,  0.80428578,\n",
       "         0.88856924,  0.88338661,  0.93734153],\n",
       "       [ 0.18555112,  0.42060106,  0.67984603,  0.83642994,  0.85416519,\n",
       "         0.87907243,  0.92609983,  0.93555777],\n",
       "       [ 0.18279406,  0.43366232,  0.65772349,  0.79215596,  0.8338362 ,\n",
       "         0.84884976,  0.90900169,  0.9247176 ],\n",
       "       [ 0.19155204,  0.45371151,  0.64053277,  0.73493107,  0.77668964,\n",
       "         0.81221858,  0.91041746,  0.938663  ]])"
      ]
     },
     "execution_count": 164,
     "metadata": {},
     "output_type": "execute_result"
    }
   ],
   "source": [
    "our_efficiency"
   ]
  },
  {
   "cell_type": "code",
   "execution_count": 165,
   "metadata": {
    "collapsed": true
   },
   "outputs": [],
   "source": [
    "np.save(\"../data/omega_jk_intb_masked.npy\", our_efficiency)"
   ]
  },
  {
   "cell_type": "code",
   "execution_count": null,
   "metadata": {
    "collapsed": true
   },
   "outputs": [],
   "source": []
  }
 ],
 "metadata": {
  "anaconda-cloud": {},
  "kernelspec": {
   "display_name": "Python [conda env:venv_py27]",
   "language": "python",
   "name": "conda-env-venv_py27-py"
  },
  "language_info": {
   "codemirror_mode": {
    "name": "ipython",
    "version": 2
   },
   "file_extension": ".py",
   "mimetype": "text/x-python",
   "name": "python",
   "nbconvert_exporter": "python",
   "pygments_lexer": "ipython2",
   "version": "2.7.12"
  }
 },
 "nbformat": 4,
 "nbformat_minor": 2
}
