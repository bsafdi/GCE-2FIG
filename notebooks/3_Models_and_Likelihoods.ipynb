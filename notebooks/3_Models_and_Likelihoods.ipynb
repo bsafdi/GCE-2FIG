{
 "cells": [
  {
   "cell_type": "code",
   "execution_count": 7,
   "metadata": {},
   "outputs": [
    {
     "name": "stdout",
     "output_type": "stream",
     "text": [
      "The autoreload extension is already loaded. To reload it, use:\n",
      "  %reload_ext autoreload\n"
     ]
    }
   ],
   "source": [
    "%matplotlib inline\n",
    "%load_ext autoreload\n",
    "%autoreload 2\n",
    "\n",
    "import sys,os\n",
    "import numpy as np\n",
    "import matplotlib as mpl\n",
    "import matplotlib.pyplot as plt\n",
    "\n",
    "sys.path.append(\"../likelihood/\")\n",
    "\n",
    "import PSR_counts as gc\n",
    "from likelihood import ll"
   ]
  },
  {
   "cell_type": "markdown",
   "metadata": {},
   "source": [
    "# 1. The expected number of PS counts\n",
    "\n",
    "Here, we describe how we calculate the expected number of PS counts, given the model parameters.  These computations are implemented in the file `get_counts_inline.pyx` in the `likelihood/` subfolder.  First, we describe the computation for a general PS population, with density function $\\rho(s,\\ell,b)$, where $(s,\\ell,b)$ are spatial coordinates with origin at the Earth, and luminosity function $dN/dL$.  Note that $\\ell$ and $b$ are Galactic longitude and latitude, respectively, while $s$ is the distance from the Earth.  The expected number of counts in a given spatial bin (labeled by $i,j$) and flux bin (labelled by $k$) is given by the integral\n",
    "\n",
    "$$\n",
    "N_{i,j,k} = \\omega_{i,j,k} \\int_{\\Delta \\Omega_{i,j}} d\\ell d b \\rho(s,\\ell,b) s^2 \\int_{4 \\pi s^2 S_k^\\text{min}}^{4 \\pi s^2 S_k^\\text{max}} {dN \\over dL} dL \\,,\n",
    "$$ \n",
    "\n",
    "where $\\omega_{i,j,k}$ is the efficiency factor for pulsar-like PS detection in that bin.  Note that we have assumed that $\\omega_{i,j,k}$ is constant within the bin, so that we may bring it outside of the integral.\n",
    " \n",
    "\n",
    "In the code, for both the disk and the Bulge, we normalize both $\\rho$ and $dN/dL$ such that the full integral over all of space and flux is equal to the total number of sources $N$ for that population.  The number of sources is one of the model parameters.  To work with this convention, we must know how to properly normalize $\\rho$ and $dN/dL$ .\n",
    "\n",
    "The normalization of $dN/dL$ is common to both the disk and Bulge.  Let \n",
    "\n",
    "$$\n",
    "{dN \\over dL} = {N_0 \\over L^\\beta}\n",
    "$$\n",
    "\n",
    "for $L$ in the range $[L_\\text{min}, L_\\text{max}]$ and be zero outside of this range.  We will normalize $dN/dL$ so that it integrates to unity, which implies that\n",
    " \n",
    "$$\n",
    "N_0 = {\\beta - 1 \\over L_\\text{min}^{1-\\beta} - L_\\text{max}^{1 - \\beta} } \\,.\n",
    "$$  \n",
    "\n",
    "\n",
    "We discuss $\\rho$ now for the disk and Bulge.  We will use the normalization that $\\int d^3x \\rho = N$."
   ]
  },
  {
   "cell_type": "markdown",
   "metadata": {},
   "source": [
    "Below, we take a few artibtrary choices to illustrate to functionality."
   ]
  },
  {
   "cell_type": "code",
   "execution_count": 8,
   "metadata": {
    "collapsed": true
   },
   "outputs": [],
   "source": [
    "N_stars = 10.0 # Example, why not\n",
    "omega_ijk = 1.0 # Example, why not\n",
    "i=3 # Example, why not\n",
    "j=3 # Example, why not\n",
    "k=1 # Example, why not\n",
    "\n",
    "Ns = 100 # Number of s bins in s integration\n",
    "Nang = 2 # Number of angular bins in angular integration\n",
    "\n",
    "\n",
    "# These are also adjustable \n",
    "Lmin=1.0e31\n",
    "Lmax = 1.0e36\n",
    "\n",
    "# Theta mask: this masks the inner \\theta degrees when calculating the expected number of counts\n",
    "theta_mask = 2.0 #degrees"
   ]
  },
  {
   "cell_type": "markdown",
   "metadata": {},
   "source": [
    "## 1.1. Bulge sources \n",
    "\n",
    "We characterize the Bulge PS population by\n",
    "\n",
    "$$\n",
    "\\rho_\\text{bulge} = {C \\over r^\\alpha} \\,,\n",
    "$$\n",
    "\n",
    "where $r$ is the distance from the Galactic Center, so long as $r < r_\\text{cut}$ .  $\\rho$ is equal to zero for larger values of $r$ .  To have to proper normalization, it is straightforward to verify that\n",
    " \n",
    "$$\n",
    "C = {(3 - \\alpha) N_\\text{bulge} \\over 4 \\pi r_\\text{cut}^{3 - \\alpha} } \\,.\n",
    "$$"
   ]
  },
  {
   "cell_type": "code",
   "execution_count": 11,
   "metadata": {},
   "outputs": [
    {
     "name": "stdout",
     "output_type": "stream",
     "text": [
      "0.000628541643001\n",
      "0.000260378877394\n"
     ]
    }
   ],
   "source": [
    "alpha = 2.60\n",
    "beta = 1.20\n",
    "rcut = 3.0 #kpc\n",
    "\n",
    "N_bulge = gc.Nbulge_ijk(i,j,k,N_stars,omega_ijk,alpha,beta,rcut,Lmin,Lmax,Ns,Nang,theta_mask) \n",
    "print N_bulge"
   ]
  },
  {
   "cell_type": "markdown",
   "metadata": {},
   "source": [
    "## 1.2. Disk sources\n",
    "\n",
    "The disk is modeled by the distribution \n",
    "\n",
    "$$\n",
    "\\rho_\\text{disk} = C R^n e^{-R / \\sigma} e^{-|z| / z_0} \\,,\n",
    "$$\n",
    "\n",
    "and we find that in this case\n",
    "\n",
    "$$\n",
    "C = {N_\\text{disk} \\over 4 \\pi z_0 \\sigma^{n+2} \\Gamma(n+2)} \\,.\n",
    "$$"
   ]
  },
  {
   "cell_type": "code",
   "execution_count": 12,
   "metadata": {},
   "outputs": [
    {
     "name": "stdout",
     "output_type": "stream",
     "text": [
      "0.000260378877394\n"
     ]
    }
   ],
   "source": [
    "n = 2.35\n",
    "z0 = 0.7 #kpc\n",
    "sigma = 1.528 #kpc\n",
    "beta=1.20\n",
    "\n",
    "smax = 40.0 #kpc , how far out to integrate to in the radial direction?\n",
    "\n",
    "N_disk = gc.Ndisk_ijk(i,j,k,N_stars,omega_ijk,n,sigma,z0,beta,Lmin,Lmax,Ns,Nang,smax,theta_mask) \n",
    "print N_disk"
   ]
  },
  {
   "cell_type": "markdown",
   "metadata": {},
   "source": [
    "Now, let's calculate the total number of total bulge and disk counts, for the prior.\n",
    "Here, we integrate over fluxes from $1.8 \\times 10^{-5}$ MeV cm$^{-2}$ s$^{-1}$ to $6.539 \\times 10^{-4}$ MeV cm$^{-2}$ s$^{-1}$."
   ]
  },
  {
   "cell_type": "code",
   "execution_count": 13,
   "metadata": {},
   "outputs": [
    {
     "name": "stdout",
     "output_type": "stream",
     "text": [
      "0.180678272082 0.352989832573\n"
     ]
    }
   ],
   "source": [
    "Nang_total = 100 #We use a larger number of angular bins here, since we are integrating over the full sky\n",
    "N_bulge_total = gc.Nbulge_total(N_stars,alpha,beta,rcut,Lmin,Lmax,Ns,Nang_total,theta_mask)\n",
    "N_disk_total = gc.Ndisk_total(N_stars,n,sigma,z0,beta,Lmin,Lmax,Ns,Nang_total,smax,theta_mask)\n",
    "print N_bulge_total,N_disk_total"
   ]
  },
  {
   "cell_type": "markdown",
   "metadata": {},
   "source": [
    "# 2. The likelihood function\n",
    "\n",
    "The `GCE-2FIG` code package uses the likelihood function presented in [1705.00009](https://arxiv.org/pdf/1705.00009.pdf).  The likelihood is implemented in the file `likelihood.pyx` in the `likelihood/` subfolder.  The sky is spatially binned in a cartesian grid, and the data consists of the number of pulsar candidates detected in each bin.  The model parameters characterize the disk and Bulge point source populations, and as we scan over the model parameters we calculated the expected number of detected sources in each bin, utilizing the _Fermi_-provided efficiency function for detecting sources at a given flux and spatial position.  The likelihood is then given by the product over all pixels of the Poisson probabilities to observe the data counts given the predicted model counts.\n",
    "\n",
    "As an option, we also incorporate the prior distribution in [1705.00009](https://arxiv.org/pdf/1705.00009.pdf).\n",
    "\n",
    "Arguments for the likelihood function are as follows:\n",
    "\n",
    "```\n",
    "    PSR_data : data binned in [longitude, latitude, flux]\n",
    "    omega_ijk : efficiency in same binning as data\n",
    "    Nbulge : number of bulge PSRs\n",
    "    Ndisk : number of disk PSRs\n",
    "    alpha : inner slope of the bulge spatial profile\n",
    "    n : cylindrical radial index of the disk profile\n",
    "    sigma : exponential cutoff of disk radius [kpc]\n",
    "    z0 : exponential cutoff of disk height [kpc]\n",
    "    Lmax_disk : max luminosity of the disk [erg/s]\n",
    "    Lmax_bulge : max luminosity of the bulge [erg/s]\n",
    "    beta_disk : index for luminosity function of disk\n",
    "    beta_bulge : index for luminosity function of bulge\n",
    "    Nang : number of angular steps per bin for the likelihood integral\n",
    "    smax_disk : maximum distance to integrate through the disk from Earth [kpc]\n",
    "    theta_mask : angle from the GC to be masked\n",
    "    use_prior : whether to use the prior\n",
    "    Nang_prior : number of angular steps per bin for the prior integral\n",
    "```"
   ]
  },
  {
   "cell_type": "markdown",
   "metadata": {},
   "source": [
    "Here we provide an example of evaluating the likelihood at a specific parameter point."
   ]
  },
  {
   "cell_type": "code",
   "execution_count": 18,
   "metadata": {
    "collapsed": true
   },
   "outputs": [],
   "source": [
    "# Load data and efficiency files created in Notebooks 1 and 2\n",
    "data = np.load(\"../data/PSR_data.npy\") + np.load(\"../data/PSR_data_3fgl.npy\") \n",
    "omega_ijk = np.load(\"../data/omega_ijk_int.npy\")"
   ]
  },
  {
   "cell_type": "code",
   "execution_count": 19,
   "metadata": {},
   "outputs": [
    {
     "data": {
      "text/plain": [
       "-1568.1928432458642"
      ]
     },
     "execution_count": 19,
     "metadata": {},
     "output_type": "execute_result"
    }
   ],
   "source": [
    "ll(data, omega_ijk, N_bulge, N_disk, alpha, n, sigma, z0, Lmax, Lmax, beta, beta)"
   ]
  },
  {
   "cell_type": "code",
   "execution_count": null,
   "metadata": {
    "collapsed": true
   },
   "outputs": [],
   "source": []
  }
 ],
 "metadata": {
  "anaconda-cloud": {},
  "kernelspec": {
   "display_name": "Python [default]",
   "language": "python",
   "name": "python2"
  },
  "language_info": {
   "codemirror_mode": {
    "name": "ipython",
    "version": 2
   },
   "file_extension": ".py",
   "mimetype": "text/x-python",
   "name": "python",
   "nbconvert_exporter": "python",
   "pygments_lexer": "ipython2",
   "version": "2.7.12"
  }
 },
 "nbformat": 4,
 "nbformat_minor": 1
}
