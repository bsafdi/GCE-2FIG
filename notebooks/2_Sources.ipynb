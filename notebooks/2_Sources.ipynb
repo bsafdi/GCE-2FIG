{
 "cells": [
  {
   "cell_type": "markdown",
   "metadata": {},
   "source": [
    "# Sources"
   ]
  },
  {
   "cell_type": "markdown",
   "metadata": {},
   "source": [
    "Get number of sources binned in latitude, longitude and flux using 2FIG candidates from Mattia and 3FGL sources."
   ]
  },
  {
   "cell_type": "code",
   "execution_count": 1,
   "metadata": {
    "collapsed": true
   },
   "outputs": [],
   "source": [
    "%matplotlib inline\n",
    "%load_ext autoreload\n",
    "%autoreload 2\n",
    "\n",
    "import numpy as np\n",
    "from astropy.io import fits"
   ]
  },
  {
   "cell_type": "markdown",
   "metadata": {},
   "source": [
    "## 2FIG pulsar candidates"
   ]
  },
  {
   "cell_type": "code",
   "execution_count": 2,
   "metadata": {
    "collapsed": true
   },
   "outputs": [],
   "source": [
    "# Set mask in degrees - distance from GC within which we ignore events\n",
    "mask = 2.\n",
    "\n",
    "# Load the raw data, contains 86 pulsar candidates with associated l, b, flux values\n",
    "rd = np.loadtxt('../data/psrcandidates.dat')\n",
    "\n",
    "# Define our bin edges\n",
    "angbins = -np.linspace(-20,20,13) # - because top left is 0,0 and astro longitude\n",
    "fluxbins = np.append(np.logspace(-6,-5,7), np.logspace(-5,-4,3)[1:3])\n",
    "\n",
    "PSR_data = np.zeros((12,12,8))\n",
    "\n",
    "# Now bin the data\n",
    "for ips in range(len(rd)):\n",
    "    lval = rd[ips, 0]\n",
    "    bval = rd[ips, 1]\n",
    "    fval = rd[ips, 2]\n",
    "    if np.cos(lval*np.pi/180.)*np.cos(bval*np.pi/180.) > np.cos(mask*np.pi/180.): continue\n",
    "    for li in range(12):\n",
    "        if (lval <= angbins[li]) & (lval > angbins[li+1]):\n",
    "            for bi in range(12):\n",
    "                if (bval <= angbins[bi]) & (bval > angbins[bi+1]):\n",
    "                    for fi in range(8):\n",
    "                        if (fval >= fluxbins[fi]) & (fval < fluxbins[fi+1]):\n",
    "                            PSR_data[li,bi,fi] += 1."
   ]
  },
  {
   "cell_type": "code",
   "execution_count": null,
   "metadata": {
    "collapsed": true
   },
   "outputs": [],
   "source": [
    "# Save 2FIG candidates\n",
    "np.save('../data/PSR_data.npy',PSR_data)"
   ]
  },
  {
   "cell_type": "markdown",
   "metadata": {},
   "source": [
    "## 3FGL sources"
   ]
  },
  {
   "cell_type": "code",
   "execution_count": 3,
   "metadata": {
    "collapsed": false
   },
   "outputs": [],
   "source": [
    "# Load 2FIG catalog\n",
    "load = fits.open('../data/2FIG_Pass8_Arxiv.fits')\n",
    "cat = np.array(load[1].data)\n",
    "\n",
    "glon = np.array([])\n",
    "glat = np.array([])\n",
    "eflux = np.array([])\n",
    "\n",
    "for i in range(len(cat)):\n",
    "    # Check if PSR or psr\n",
    "    if (cat[i][22] == 'PSR') | (cat[i][22] == 'psr'):\n",
    "        glon = np.append(glon,cat[i][3])\n",
    "        glat = np.append(glat,cat[i][4])\n",
    "        eflux = np.append(eflux,cat[i][11])\n",
    "\n",
    "# Now bin\n",
    "angbins = -np.linspace(-20,20,13) # - because top left is 0,0 and astro longitude\n",
    "fluxbins = np.append(np.logspace(-6,-5,7), np.logspace(-5,-4,3)[1:3])\n",
    "\n",
    "PSR_data_3fgl = np.zeros((12,12,8))\n",
    "\n",
    "for ips in range(len(glon)):\n",
    "    lval = glon[ips]\n",
    "    bval = glat[ips]\n",
    "    if np.cos(lval*np.pi/180.)*np.cos(bval*np.pi/180.) > np.cos(mask*np.pi/180.): continue\n",
    "    fval = eflux[ips]\n",
    "    for li in range(12):\n",
    "        if (lval <= angbins[li]) & (lval > angbins[li+1]):\n",
    "            for bi in range(12):\n",
    "                if (bval <= angbins[bi]) & (bval > angbins[bi+1]):\n",
    "                    for fi in range(8):\n",
    "                        if (fval >= fluxbins[fi]) & (fval < fluxbins[fi+1]):\n",
    "                            PSR_data_3fgl[li,bi,fi] += 1."
   ]
  },
  {
   "cell_type": "code",
   "execution_count": null,
   "metadata": {
    "collapsed": true
   },
   "outputs": [],
   "source": [
    "# Save 3FGL candidates\n",
    "np.save('../data/PSR_data_3fgl.npy',PSR_data_3fgl)"
   ]
  }
 ],
 "metadata": {
  "anaconda-cloud": {},
  "kernelspec": {
   "display_name": "Python 2",
   "language": "python",
   "name": "python2"
  },
  "language_info": {
   "codemirror_mode": {
    "name": "ipython",
    "version": 2
   },
   "file_extension": ".py",
   "mimetype": "text/x-python",
   "name": "python",
   "nbconvert_exporter": "python",
   "pygments_lexer": "ipython2",
   "version": "2.7.12"
  }
 },
 "nbformat": 4,
 "nbformat_minor": 2
}
