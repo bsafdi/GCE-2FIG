{
 "cells": [
  {
   "cell_type": "markdown",
   "metadata": {},
   "source": [
    "# Sources"
   ]
  },
  {
   "cell_type": "markdown",
   "metadata": {},
   "source": [
    "Get number of sources binned in longitude, latitude, and flux using both the 2FIG candidates from Mattia and 3FGL sources. The combination of both of these will form the dataset analyzed.\n",
    "\n",
    "As for the efficiency note that we have 12x12 spatial bins in the 40x40 region, with our bins starting on the top left of the map (l,b)=(20,20) and moving to the bottom right (l,b)=(-20,-20)."
   ]
  },
  {
   "cell_type": "code",
   "execution_count": 1,
   "metadata": {
    "collapsed": true
   },
   "outputs": [],
   "source": [
    "%matplotlib inline\n",
    "%load_ext autoreload\n",
    "%autoreload 2\n",
    "\n",
    "import numpy as np\n",
    "from astropy.io import fits\n",
    "import matplotlib\n",
    "matplotlib.matplotlib_fname()\n",
    "import matplotlib.pyplot as plt"
   ]
  },
  {
   "cell_type": "markdown",
   "metadata": {},
   "source": [
    "## 2FIG pulsar candidates"
   ]
  },
  {
   "cell_type": "code",
   "execution_count": 2,
   "metadata": {
    "collapsed": true
   },
   "outputs": [],
   "source": [
    "# Set mask in degrees - distance from GC within which we ignore events\n",
    "mask = 2.\n",
    "\n",
    "# Load the raw data, contains 86 pulsar candidates with associated l, b, flux values\n",
    "# This is a digitized version of the source list in \n",
    "rd = np.loadtxt('../likelihood/data/psrcandidates.dat')\n",
    "\n",
    "# Define our bin edges\n",
    "angbins = -np.linspace(-20,20,13) # - because top left is 0,0 and astro longitude\n",
    "fluxbins = np.append(np.logspace(-6,-5,7), np.logspace(-5,-4,3)[1:3])\n",
    "\n",
    "PSR_data = np.zeros((12,12,8))\n",
    "\n",
    "# Now bin the data\n",
    "for ips in range(len(rd)):\n",
    "    lval = rd[ips, 0]\n",
    "    bval = rd[ips, 1]\n",
    "    fval = rd[ips, 2]\n",
    "    if np.cos(lval*np.pi/180.)*np.cos(bval*np.pi/180.) > np.cos(mask*np.pi/180.): continue\n",
    "    for li in range(12):\n",
    "        if (lval <= angbins[li]) & (lval > angbins[li+1]):\n",
    "            for bi in range(12):\n",
    "                if (bval <= angbins[bi]) & (bval > angbins[bi+1]):\n",
    "                    for fi in range(8):\n",
    "                        if (fval >= fluxbins[fi]) & (fval < fluxbins[fi+1]):\n",
    "                            PSR_data[li,bi,fi] += 1."
   ]
  },
  {
   "cell_type": "code",
   "execution_count": 3,
   "metadata": {
    "collapsed": false
   },
   "outputs": [],
   "source": [
    "# Save 2FIG candidates\n",
    "np.save('../likelihood/data/PSR_data.npy',PSR_data)"
   ]
  },
  {
   "cell_type": "code",
   "execution_count": 4,
   "metadata": {
    "collapsed": false
   },
   "outputs": [
    {
     "data": {
      "image/png": "[encoded data removed]",
      "text/plain": [
       "<matplotlib.figure.Figure at 0x7f0f99b73690>"
      ]
     },
     "metadata": {},
     "output_type": "display_data"
    }
   ],
   "source": [
    "# Plot the data summed over all flux bins\n",
    "fig = plt.figure(figsize=(8, 8))\n",
    "ax = fig.add_subplot(111)\n",
    "# transpose as it plots the first index on the y-axis\n",
    "cax = ax.matshow(np.transpose(np.sum(PSR_data,axis=2)), interpolation='nearest')\n",
    "fig.colorbar(cax)\n",
    "plt.show()"
   ]
  },
  {
   "cell_type": "markdown",
   "metadata": {},
   "source": [
    "## 3FGL sources"
   ]
  },
  {
   "cell_type": "code",
   "execution_count": 5,
   "metadata": {
    "collapsed": false
   },
   "outputs": [],
   "source": [
    "# Load 2FIG catalog\n",
    "load = fits.open('../likelihood/data/2FIG_Pass8_Arxiv.fits')\n",
    "cat = np.array(load[1].data)\n",
    "\n",
    "glon = np.array([])\n",
    "glat = np.array([])\n",
    "eflux = np.array([])\n",
    "\n",
    "for i in range(len(cat)):\n",
    "    # Check if PSR or psr\n",
    "    if (cat[i][22] == 'PSR') | (cat[i][22] == 'psr'):\n",
    "        glon = np.append(glon,cat[i][3])\n",
    "        glat = np.append(glat,cat[i][4])\n",
    "        eflux = np.append(eflux,cat[i][11])\n",
    "\n",
    "# Now bin\n",
    "angbins = -np.linspace(-20,20,13) # - because top left is 0,0 and astro longitude\n",
    "fluxbins = np.append(np.logspace(-6,-5,7), np.logspace(-5,-4,3)[1:3])\n",
    "\n",
    "PSR_data_3fgl = np.zeros((12,12,8))\n",
    "\n",
    "for ips in range(len(glon)):\n",
    "    lval = glon[ips]\n",
    "    bval = glat[ips]\n",
    "    if np.cos(lval*np.pi/180.)*np.cos(bval*np.pi/180.) > np.cos(mask*np.pi/180.): continue\n",
    "    fval = eflux[ips]\n",
    "    for li in range(12):\n",
    "        if (lval <= angbins[li]) & (lval > angbins[li+1]):\n",
    "            for bi in range(12):\n",
    "                if (bval <= angbins[bi]) & (bval > angbins[bi+1]):\n",
    "                    for fi in range(8):\n",
    "                        if (fval >= fluxbins[fi]) & (fval < fluxbins[fi+1]):\n",
    "                            PSR_data_3fgl[li,bi,fi] += 1."
   ]
  },
  {
   "cell_type": "code",
   "execution_count": 6,
   "metadata": {
    "collapsed": true
   },
   "outputs": [],
   "source": [
    "# Save 3FGL candidates\n",
    "np.save('../likelihood/data/PSR_data_3fgl.npy',PSR_data_3fgl)"
   ]
  },
  {
   "cell_type": "code",
   "execution_count": 7,
   "metadata": {
    "collapsed": false
   },
   "outputs": [
    {
     "data": {
      "image/png": "[encoded data removed]",
      "text/plain": [
       "<matplotlib.figure.Figure at 0x7f0f062e8050>"
      ]
     },
     "metadata": {},
     "output_type": "display_data"
    }
   ],
   "source": [
    "# Plot the data summed over all flux bins\n",
    "fig = plt.figure(figsize=(8, 8))\n",
    "ax = fig.add_subplot(111)\n",
    "# transpose as it plots the first index on the y-axis\n",
    "cax = ax.matshow(np.transpose(np.sum(PSR_data_3fgl,axis=2)), interpolation='nearest')\n",
    "fig.colorbar(cax)\n",
    "plt.show()"
   ]
  },
  {
   "cell_type": "markdown",
   "metadata": {},
   "source": [
    "## Plot the combined data"
   ]
  },
  {
   "cell_type": "code",
   "execution_count": 8,
   "metadata": {
    "collapsed": false
   },
   "outputs": [
    {
     "data": {
      "image/png": "[encoded data removed]",
      "text/plain": [
       "<matplotlib.figure.Figure at 0x7f0f900de150>"
      ]
     },
     "metadata": {},
     "output_type": "display_data"
    }
   ],
   "source": [
    "# Plot the data summed over all flux bins\n",
    "fig = plt.figure(figsize=(8, 8))\n",
    "ax = fig.add_subplot(111)\n",
    "# transpose as it plots the first index on the y-axis\n",
    "cax = ax.matshow(np.transpose(np.sum(PSR_data+PSR_data_3fgl,axis=2)), interpolation='nearest')\n",
    "fig.colorbar(cax)\n",
    "plt.show()"
   ]
  }
 ],
 "metadata": {
  "anaconda-cloud": {},
  "kernelspec": {
   "display_name": "Python 2",
   "language": "python",
   "name": "python2"
  },
  "language_info": {
   "codemirror_mode": {
    "name": "ipython",
    "version": 2
   },
   "file_extension": ".py",
   "mimetype": "text/x-python",
   "name": "python",
   "nbconvert_exporter": "python",
   "pygments_lexer": "ipython2",
   "version": "2.7.11"
  }
 },
 "nbformat": 4,
 "nbformat_minor": 2
}
