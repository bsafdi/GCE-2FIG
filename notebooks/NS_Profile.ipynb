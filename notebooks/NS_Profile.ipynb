{
 "cells": [
  {
   "cell_type": "markdown",
   "metadata": {},
   "source": [
    "# Full scans"
   ]
  },
  {
   "cell_type": "markdown",
   "metadata": {},
   "source": [
    "Here we will analyze the results of the full scans that were performed on the cluster. The scripts to run the scans in parallel on the cluster are located in the `run/` folder, also containing examples of `SLURM` batch files used to launch these scan. The file names are below. These are used to obtain the Monte Carlo chains, which are included in the repository.\n",
    "\n",
    "Three scans are performed, floating:\n",
    "\n",
    "- $N_D$, $z_0$ and $\\beta$ (`run_nd_z0_beta.py`)\n",
    "- $N_D$, $N_B$, $z_0$ and $\\beta$ (`run_nd_nb_z0_beta_prior.py`)\n",
    "- $N_D$, $N_B$, $z_0$, $\\beta$ and $\\alpha$ (`run_nd_nb_z0_beta_alpha_prior.py`)\n",
    "\n",
    "and the likelihoods between runs including the bulge population are compared with those without it to test preference for the bulge population.\n",
    "\n",
    "For these runs, we show:\n",
    "\n",
    "- Best-fit log-evidence\n",
    "- Best-fit parameters\n",
    "- For the bulge runs, TS preference with respect to disk-only"
   ]
  },
  {
   "cell_type": "code",
   "execution_count": 22,
   "metadata": {},
   "outputs": [
    {
     "name": "stdout",
     "output_type": "stream",
     "text": [
      "The autoreload extension is already loaded. To reload it, use:\n",
      "  %reload_ext autoreload\n"
     ]
    }
   ],
   "source": [
    "%matplotlib inline\n",
    "%load_ext autoreload\n",
    "%autoreload 2\n",
    "\n",
    "import sys,os\n",
    "import numpy as np\n",
    "import matplotlib.pyplot as plt\n",
    "\n",
    "sys.path.append(\"../run/\")\n",
    "from run import run_scan"
   ]
  },
  {
   "cell_type": "code",
   "execution_count": 45,
   "metadata": {},
   "outputs": [
    {
     "name": "stdout",
     "output_type": "stream",
     "text": [
      "  analysing data from ../run/chains/rs_nd_varyingNs_200/.txt\n",
      "Best-fit log-evidence: -576.137464556\n",
      "  analysing data from ../run/chains/rs_nd_nb_varyingNs_200/.txt\n",
      "Best-fit log-evidence: -568.098538357\n",
      "TS = 8.03892619935\n",
      "2.83530001928 sigma\n",
      "  analysing data from ../run/chains/rs_nd_varyingNs_300/.txt\n",
      "Best-fit log-evidence: -578.82787329\n",
      "  analysing data from ../run/chains/rs_nd_nb_varyingNs_300/.txt\n",
      "Best-fit log-evidence: -570.149078132\n",
      "TS = 8.67879515813\n",
      "2.94597949045 sigma\n",
      "  analysing data from ../run/chains/rs_nd_varyingNs_400/.txt\n",
      "Best-fit log-evidence: -578.245238894\n",
      "  analysing data from ../run/chains/rs_nd_nb_varyingNs_400/.txt\n",
      "Best-fit log-evidence: -570.119578329\n",
      "TS = 8.12566056563\n",
      "2.85055443127 sigma\n",
      "  analysing data from ../run/chains/rs_nd_varyingNs_500/.txt\n",
      "Best-fit log-evidence: -578.617747946\n",
      "  analysing data from ../run/chains/rs_nd_nb_varyingNs_500/.txt\n",
      "Best-fit log-evidence: -570.344015237\n",
      "TS = 8.27373270959\n",
      "2.87640969085 sigma\n",
      "  analysing data from ../run/chains/rs_nd_varyingNs_600/.txt\n",
      "Best-fit log-evidence: -578.500362845\n",
      "  analysing data from ../run/chains/rs_nd_nb_varyingNs_600/.txt\n",
      "Best-fit log-evidence: -570.117071607\n",
      "TS = 8.38329123782\n",
      "2.89539137904 sigma\n",
      "  analysing data from ../run/chains/rs_nd_varyingNs_700/.txt\n",
      "Best-fit log-evidence: -578.288794491\n",
      "  analysing data from ../run/chains/rs_nd_nb_varyingNs_700/.txt\n",
      "Best-fit log-evidence: -569.86510487\n",
      "TS = 8.42368962151\n",
      "2.90235931985 sigma\n",
      "  analysing data from ../run/chains/rs_nd_varyingNs_800/.txt\n",
      "Best-fit log-evidence: -578.331647783\n",
      "  analysing data from ../run/chains/rs_nd_nb_varyingNs_800/.txt\n",
      "Best-fit log-evidence: -569.850093092\n",
      "TS = 8.48155469074\n",
      "2.91231088498 sigma\n",
      "  analysing data from ../run/chains/rs_nd_varyingNs_900/.txt\n",
      "Best-fit log-evidence: -578.172694784\n",
      "  analysing data from ../run/chains/rs_nd_nb_varyingNs_900/.txt\n",
      "Best-fit log-evidence: -569.831898561\n",
      "TS = 8.34079622337\n",
      "2.88804366715 sigma\n"
     ]
    }
   ],
   "source": [
    "lge_nd_ary = []\n",
    "lge_nd_nb_ary = []\n",
    "\n",
    "Ns_ary = np.arange(200,1000,100)\n",
    "\n",
    "for Ns in Ns_ary:\n",
    "\n",
    "    fixed_params = ['n','sigma','alpha','Lmax_disk', 'Lmax_bulge','N_bulge']\n",
    "    fixed_param_vals = [2.35,1.528,2.6,1.0e36,1.0e36,0]\n",
    "\n",
    "    floated_params = ['N_disk', 'z0', 'beta']\n",
    "    floated_param_priors = [[0,3000000],[0.01,2.0],[1.1,3.0]]\n",
    "\n",
    "    rs_nd = run_scan(fixed_params, fixed_param_vals, floated_params, floated_param_priors, Ns = 200, Nang = 10, share_betas=True, use_prior=True)\n",
    "\n",
    "    chains_dir = '../run/chains/rs_nd_varyingNs_'+ str(Ns)+'/'\n",
    "    lge_nd = rs_nd.get_bestfit_lge(chains_dir=chains_dir)\n",
    "    \n",
    "    lge_nd_ary.append(lge_nd)\n",
    "\n",
    "    print \"Best-fit log-evidence:\",2*lge_nd\n",
    "\n",
    "    fixed_params = ['n','sigma','alpha','Lmax_disk', 'Lmax_bulge']\n",
    "    fixed_param_vals = [2.35,1.528,2.6,1.0e36,1.0e36]\n",
    "\n",
    "    floated_params = ['N_bulge','N_disk','z0', 'beta']\n",
    "    floated_param_priors = [[0,3000000],[0,3000000],[0.01,2.0],[1.1,3.0]]\n",
    "\n",
    "    rs_nd_nb = run_scan(fixed_params, fixed_param_vals, floated_params, floated_param_priors, Ns = 200, Nang = 10, share_betas=True, use_prior=True)\n",
    "    chains_dir = '../run/chains/rs_nd_nb_varyingNs_'+ str(Ns)+'/'\n",
    "    lge_nd_nb = rs_nd_nb.get_bestfit_lge(chains_dir=chains_dir)\n",
    "    \n",
    "    lge_nd_nb_ary.append(lge_nd_nb)\n",
    "\n",
    "    print \"Best-fit log-evidence:\",2*lge_nd_nb\n",
    "\n",
    "    TS = 2*(lge_nd_nb - lge_nd)\n",
    "    print \"TS =\", TS\n",
    "    print np.sqrt(TS), \"sigma\""
   ]
  },
  {
   "cell_type": "code",
   "execution_count": 82,
   "metadata": {},
   "outputs": [
    {
     "data": {
      "text/plain": [
       "<matplotlib.legend.Legend at 0x7faafa26ac90>"
      ]
     },
     "execution_count": 82,
     "metadata": {},
     "output_type": "execute_result"
    },
    {
     "data": {
      "image/png": "[encoded data removed]",
      "text/plain": [
       "<matplotlib.figure.Figure at 0x7fab1515e3d0>"
      ]
     },
     "metadata": {},
     "output_type": "display_data"
    }
   ],
   "source": [
    "plt.plot(Ns_ary, np.array(lge_nd_ary), label=\"Float $N_D$\")\n",
    "plt.plot(Ns_ary, np.array(lge_nd_nb_ary), label=\"Float $N_D$, $N_B$\")\n",
    "plt.ylabel(\"Best-fit LL\")\n",
    "plt.xlabel(\"$N_\\mathrm{s}$\")\n",
    "plt.legend()"
   ]
  },
  {
   "cell_type": "code",
   "execution_count": 60,
   "metadata": {},
   "outputs": [
    {
     "data": {
      "image/png": "[encoded data removed]",
      "text/plain": [
       "<matplotlib.figure.Figure at 0x7fab152b9210>"
      ]
     },
     "metadata": {},
     "output_type": "display_data"
    }
   ],
   "source": [
    "plt.plot(Ns_ary, 2*np.array(lge_nd_nb_ary) - 2*np.array(lge_nd_ary), color='firebrick')\n",
    "plt.ylabel(\"$\\Delta$TS\")\n",
    "plt.xlabel(\"$N_s$\")\n",
    "plt.legend()"
   ]
  },
  {
   "cell_type": "code",
   "execution_count": 83,
   "metadata": {
    "collapsed": true
   },
   "outputs": [],
   "source": [
    "nick = np.load(\"../data/efficiency_long.npy\")"
   ]
  },
  {
   "cell_type": "code",
   "execution_count": 84,
   "metadata": {
    "collapsed": true
   },
   "outputs": [],
   "source": [
    "dan = np.load(\"../data/efficiency_long_dan.npy\")"
   ]
  },
  {
   "cell_type": "code",
   "execution_count": 92,
   "metadata": {},
   "outputs": [
    {
     "data": {
      "text/plain": [
       "((12, 12, 8), 0.001, 0.999)"
      ]
     },
     "execution_count": 92,
     "metadata": {},
     "output_type": "execute_result"
    }
   ],
   "source": [
    "np.shape(dan), np.min(dan), np.max(dan)"
   ]
  },
  {
   "cell_type": "code",
   "execution_count": 98,
   "metadata": {},
   "outputs": [
    {
     "data": {
      "text/plain": [
       "((12, 12, 8), 0.001, 0.999)"
      ]
     },
     "execution_count": 98,
     "metadata": {},
     "output_type": "execute_result"
    }
   ],
   "source": [
    "np.shape(dan), np.min(dan), np.max(dan)"
   ]
  },
  {
   "cell_type": "code",
   "execution_count": 86,
   "metadata": {},
   "outputs": [
    {
     "data": {
      "text/plain": [
       "((12, 12, 8), 0.011162487711731662, 1.0)"
      ]
     },
     "execution_count": 86,
     "metadata": {},
     "output_type": "execute_result"
    }
   ],
   "source": [
    "np.shape(nick), np.min(nick), np.max(nick)"
   ]
  },
  {
   "cell_type": "code",
   "execution_count": 87,
   "metadata": {
    "collapsed": true
   },
   "outputs": [],
   "source": [
    "dan[dan > 1] = 0.999\n",
    "dan[dan < 0] = 0.001"
   ]
  },
  {
   "cell_type": "code",
   "execution_count": 88,
   "metadata": {},
   "outputs": [
    {
     "data": {
      "text/plain": [
       "((12, 12, 8), 0.001, 0.999)"
      ]
     },
     "execution_count": 88,
     "metadata": {},
     "output_type": "execute_result"
    }
   ],
   "source": [
    "np.shape(dan), np.min(dan), np.max(dan)"
   ]
  },
  {
   "cell_type": "code",
   "execution_count": 89,
   "metadata": {
    "collapsed": true
   },
   "outputs": [],
   "source": [
    "np.save(\"../data/efficiency_long_dan_trunc.npy\", dan)"
   ]
  },
  {
   "cell_type": "code",
   "execution_count": null,
   "metadata": {
    "collapsed": true
   },
   "outputs": [],
   "source": []
  }
 ],
 "metadata": {
  "anaconda-cloud": {},
  "kernelspec": {
   "display_name": "Python [default]",
   "language": "python",
   "name": "python2"
  },
  "language_info": {
   "codemirror_mode": {
    "name": "ipython",
    "version": 2
   },
   "file_extension": ".py",
   "mimetype": "text/x-python",
   "name": "python",
   "nbconvert_exporter": "python",
   "pygments_lexer": "ipython2",
   "version": "2.7.12"
  }
 },
 "nbformat": 4,
 "nbformat_minor": 2
}
